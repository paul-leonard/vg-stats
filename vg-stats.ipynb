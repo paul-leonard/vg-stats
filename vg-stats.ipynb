{
 "metadata": {
  "language_info": {
   "codemirror_mode": {
    "name": "ipython",
    "version": 3
   },
   "file_extension": ".py",
   "mimetype": "text/x-python",
   "name": "python",
   "nbconvert_exporter": "python",
   "pygments_lexer": "ipython3",
   "version": "3.9.0-final"
  },
  "orig_nbformat": 2,
  "kernelspec": {
   "name": "python3",
   "display_name": "Python 3"
  }
 },
 "nbformat": 4,
 "nbformat_minor": 2,
 "cells": [
  {
   "source": [
    "# Data Analysis with Pandas:  Video Game Sales\n",
    "### Paul Leonard on 11/24/2020"
   ],
   "cell_type": "markdown",
   "metadata": {}
  },
  {
   "source": [
    "## Bringing in pandas and the library"
   ],
   "cell_type": "markdown",
   "metadata": {}
  },
  {
   "cell_type": "code",
   "execution_count": 1,
   "metadata": {},
   "outputs": [
    {
     "output_type": "stream",
     "name": "stdout",
     "text": [
      "<class 'pandas.core.frame.DataFrame'>\nRangeIndex: 16598 entries, 0 to 16597\nData columns (total 11 columns):\n #   Column        Non-Null Count  Dtype  \n---  ------        --------------  -----  \n 0   Rank          16598 non-null  int64  \n 1   Name          16598 non-null  object \n 2   Platform      16598 non-null  object \n 3   Year          16327 non-null  float64\n 4   Genre         16598 non-null  object \n 5   Publisher     16540 non-null  object \n 6   NA_Sales      16598 non-null  float64\n 7   EU_Sales      16598 non-null  float64\n 8   JP_Sales      16598 non-null  float64\n 9   Other_Sales   16598 non-null  float64\n 10  Global_Sales  16598 non-null  float64\ndtypes: float64(6), int64(1), object(4)\nmemory usage: 1.4+ MB\n"
     ]
    },
    {
     "output_type": "execute_result",
     "data": {
      "text/plain": [
       "                                                     Rank Platform    Year\n",
       "Name                                                                      \n",
       "Grand Theft Auto V                                     17      PS3  2013.0\n",
       "Grand Theft Auto V                                     24     X360  2013.0\n",
       "Call of Duty: Modern Warfare 3                         30     X360  2011.0\n",
       "Pokemon X/Pokemon Y                                    33      3DS  2013.0\n",
       "Call of Duty: Black Ops 3                              34      PS4  2015.0\n",
       "...                                                   ...      ...     ...\n",
       "Rugby Challenge 3                                   16579     XOne  2016.0\n",
       "Outdoors Unleashed: Africa 3D                       16581      3DS  2011.0\n",
       "Fit & Fun                                           16584      Wii  2011.0\n",
       "Breach                                              16588       PC  2011.0\n",
       "Chou Ezaru wa Akai Hana: Koi wa Tsuki ni Shirub...  16592      PSV  2016.0\n",
       "\n",
       "[3886 rows x 3 columns]"
      ],
      "text/html": "<div>\n<style scoped>\n    .dataframe tbody tr th:only-of-type {\n        vertical-align: middle;\n    }\n\n    .dataframe tbody tr th {\n        vertical-align: top;\n    }\n\n    .dataframe thead th {\n        text-align: right;\n    }\n</style>\n<table border=\"1\" class=\"dataframe\">\n  <thead>\n    <tr style=\"text-align: right;\">\n      <th></th>\n      <th>Rank</th>\n      <th>Platform</th>\n      <th>Year</th>\n    </tr>\n    <tr>\n      <th>Name</th>\n      <th></th>\n      <th></th>\n      <th></th>\n    </tr>\n  </thead>\n  <tbody>\n    <tr>\n      <th>Grand Theft Auto V</th>\n      <td>17</td>\n      <td>PS3</td>\n      <td>2013.0</td>\n    </tr>\n    <tr>\n      <th>Grand Theft Auto V</th>\n      <td>24</td>\n      <td>X360</td>\n      <td>2013.0</td>\n    </tr>\n    <tr>\n      <th>Call of Duty: Modern Warfare 3</th>\n      <td>30</td>\n      <td>X360</td>\n      <td>2011.0</td>\n    </tr>\n    <tr>\n      <th>Pokemon X/Pokemon Y</th>\n      <td>33</td>\n      <td>3DS</td>\n      <td>2013.0</td>\n    </tr>\n    <tr>\n      <th>Call of Duty: Black Ops 3</th>\n      <td>34</td>\n      <td>PS4</td>\n      <td>2015.0</td>\n    </tr>\n    <tr>\n      <th>...</th>\n      <td>...</td>\n      <td>...</td>\n      <td>...</td>\n    </tr>\n    <tr>\n      <th>Rugby Challenge 3</th>\n      <td>16579</td>\n      <td>XOne</td>\n      <td>2016.0</td>\n    </tr>\n    <tr>\n      <th>Outdoors Unleashed: Africa 3D</th>\n      <td>16581</td>\n      <td>3DS</td>\n      <td>2011.0</td>\n    </tr>\n    <tr>\n      <th>Fit &amp; Fun</th>\n      <td>16584</td>\n      <td>Wii</td>\n      <td>2011.0</td>\n    </tr>\n    <tr>\n      <th>Breach</th>\n      <td>16588</td>\n      <td>PC</td>\n      <td>2011.0</td>\n    </tr>\n    <tr>\n      <th>Chou Ezaru wa Akai Hana: Koi wa Tsuki ni Shirube Kareru</th>\n      <td>16592</td>\n      <td>PSV</td>\n      <td>2016.0</td>\n    </tr>\n  </tbody>\n</table>\n<p>3886 rows × 3 columns</p>\n</div>"
     },
     "metadata": {},
     "execution_count": 1
    }
   ],
   "source": [
    "import pandas as pd\n",
    "\n",
    "#data from https://www.kaggle.com/gregorut/videogamesales?select=vgsales.csv\n",
    "df = pd.read_csv('./vgsales.csv')\n",
    "\n",
    "df.info()\n",
    "df.head(3)\n",
    "df.tail(4)\n",
    "df.set_index(\"Name\")\n",
    "df[[\"Name\",\"Year\",\"Genre\"]]\n",
    "df.set_index(\"Name\")[[\"Year\",\"Genre\"]]\n",
    "df.set_index(\"Name\")[[\"Year\",\"Genre\"]].sort_values('Year', ascending=True)\n",
    "df['Year'] < 2000\n",
    "df[df['Year'] > 2000]\n",
    "df[df['Year'] > 2010].set_index(\"Name\")[[\"Rank\",\"Platform\",\"Year\"]]\n"
   ]
  },
  {
   "cell_type": "code",
   "execution_count": null,
   "metadata": {},
   "outputs": [],
   "source": []
  },
  {
   "source": [
    "## What is the most common video game publisher?"
   ],
   "cell_type": "markdown",
   "metadata": {}
  },
  {
   "cell_type": "code",
   "execution_count": 2,
   "metadata": {},
   "outputs": [
    {
     "output_type": "execute_result",
     "data": {
      "text/plain": [
       "         Publisher\n",
       "0  Electronic Arts"
      ],
      "text/html": "<div>\n<style scoped>\n    .dataframe tbody tr th:only-of-type {\n        vertical-align: middle;\n    }\n\n    .dataframe tbody tr th {\n        vertical-align: top;\n    }\n\n    .dataframe thead th {\n        text-align: right;\n    }\n</style>\n<table border=\"1\" class=\"dataframe\">\n  <thead>\n    <tr style=\"text-align: right;\">\n      <th></th>\n      <th>Publisher</th>\n    </tr>\n  </thead>\n  <tbody>\n    <tr>\n      <th>0</th>\n      <td>Electronic Arts</td>\n    </tr>\n  </tbody>\n</table>\n</div>"
     },
     "metadata": {},
     "execution_count": 2
    }
   ],
   "source": [
    "most_common_publisher = df[[\"Publisher\"]].mode()\n",
    "most_common_publisher"
   ]
  },
  {
   "source": [
    "## What's the most common platform?"
   ],
   "cell_type": "markdown",
   "metadata": {}
  },
  {
   "cell_type": "code",
   "execution_count": 3,
   "metadata": {},
   "outputs": [
    {
     "output_type": "execute_result",
     "data": {
      "text/plain": [
       "Empty DataFrame\n",
       "Columns: []\n",
       "Index: [DS]"
      ],
      "text/html": "<div>\n<style scoped>\n    .dataframe tbody tr th:only-of-type {\n        vertical-align: middle;\n    }\n\n    .dataframe tbody tr th {\n        vertical-align: top;\n    }\n\n    .dataframe thead th {\n        text-align: right;\n    }\n</style>\n<table border=\"1\" class=\"dataframe\">\n  <thead>\n    <tr style=\"text-align: right;\">\n      <th></th>\n    </tr>\n    <tr>\n      <th>Platform</th>\n    </tr>\n  </thead>\n  <tbody>\n    <tr>\n      <th>DS</th>\n    </tr>\n  </tbody>\n</table>\n</div>"
     },
     "metadata": {},
     "execution_count": 3
    }
   ],
   "source": [
    "df[[\"Platform\"]].mode().set_index(\"Platform\")"
   ]
  },
  {
   "source": [
    "## What about the most common genre?"
   ],
   "cell_type": "markdown",
   "metadata": {}
  },
  {
   "cell_type": "code",
   "execution_count": 4,
   "metadata": {},
   "outputs": [
    {
     "output_type": "execute_result",
     "data": {
      "text/plain": [
       "Empty DataFrame\n",
       "Columns: []\n",
       "Index: [Action]"
      ],
      "text/html": "<div>\n<style scoped>\n    .dataframe tbody tr th:only-of-type {\n        vertical-align: middle;\n    }\n\n    .dataframe tbody tr th {\n        vertical-align: top;\n    }\n\n    .dataframe thead th {\n        text-align: right;\n    }\n</style>\n<table border=\"1\" class=\"dataframe\">\n  <thead>\n    <tr style=\"text-align: right;\">\n      <th></th>\n    </tr>\n    <tr>\n      <th>Genre</th>\n    </tr>\n  </thead>\n  <tbody>\n    <tr>\n      <th>Action</th>\n    </tr>\n  </tbody>\n</table>\n</div>"
     },
     "metadata": {},
     "execution_count": 4
    }
   ],
   "source": [
    "df[[\"Genre\"]].mode().set_index(\"Genre\")"
   ]
  },
  {
   "source": [
    "## What are the top 20 highest grossing games?"
   ],
   "cell_type": "markdown",
   "metadata": {}
  },
  {
   "cell_type": "code",
   "execution_count": 5,
   "metadata": {},
   "outputs": [
    {
     "output_type": "execute_result",
     "data": {
      "text/plain": [
       "                                              Global_Sales    Year Platform\n",
       "Name                                                                       \n",
       "Wii Sports                                           82.74  2006.0      Wii\n",
       "Super Mario Bros.                                    40.24  1985.0      NES\n",
       "Mario Kart Wii                                       35.82  2008.0      Wii\n",
       "Wii Sports Resort                                    33.00  2009.0      Wii\n",
       "Pokemon Red/Pokemon Blue                             31.37  1996.0       GB\n",
       "Tetris                                               30.26  1989.0       GB\n",
       "New Super Mario Bros.                                30.01  2006.0       DS\n",
       "Wii Play                                             29.02  2006.0      Wii\n",
       "New Super Mario Bros. Wii                            28.62  2009.0      Wii\n",
       "Duck Hunt                                            28.31  1984.0      NES\n",
       "Nintendogs                                           24.76  2005.0       DS\n",
       "Mario Kart DS                                        23.42  2005.0       DS\n",
       "Pokemon Gold/Pokemon Silver                          23.10  1999.0       GB\n",
       "Wii Fit                                              22.72  2007.0      Wii\n",
       "Wii Fit Plus                                         22.00  2009.0      Wii\n",
       "Kinect Adventures!                                   21.82  2010.0     X360\n",
       "Grand Theft Auto V                                   21.40  2013.0      PS3\n",
       "Grand Theft Auto: San Andreas                        20.81  2004.0      PS2\n",
       "Super Mario World                                    20.61  1990.0     SNES\n",
       "Brain Age: Train Your Brain in Minutes a Day         20.22  2005.0       DS"
      ],
      "text/html": "<div>\n<style scoped>\n    .dataframe tbody tr th:only-of-type {\n        vertical-align: middle;\n    }\n\n    .dataframe tbody tr th {\n        vertical-align: top;\n    }\n\n    .dataframe thead th {\n        text-align: right;\n    }\n</style>\n<table border=\"1\" class=\"dataframe\">\n  <thead>\n    <tr style=\"text-align: right;\">\n      <th></th>\n      <th>Global_Sales</th>\n      <th>Year</th>\n      <th>Platform</th>\n    </tr>\n    <tr>\n      <th>Name</th>\n      <th></th>\n      <th></th>\n      <th></th>\n    </tr>\n  </thead>\n  <tbody>\n    <tr>\n      <th>Wii Sports</th>\n      <td>82.74</td>\n      <td>2006.0</td>\n      <td>Wii</td>\n    </tr>\n    <tr>\n      <th>Super Mario Bros.</th>\n      <td>40.24</td>\n      <td>1985.0</td>\n      <td>NES</td>\n    </tr>\n    <tr>\n      <th>Mario Kart Wii</th>\n      <td>35.82</td>\n      <td>2008.0</td>\n      <td>Wii</td>\n    </tr>\n    <tr>\n      <th>Wii Sports Resort</th>\n      <td>33.00</td>\n      <td>2009.0</td>\n      <td>Wii</td>\n    </tr>\n    <tr>\n      <th>Pokemon Red/Pokemon Blue</th>\n      <td>31.37</td>\n      <td>1996.0</td>\n      <td>GB</td>\n    </tr>\n    <tr>\n      <th>Tetris</th>\n      <td>30.26</td>\n      <td>1989.0</td>\n      <td>GB</td>\n    </tr>\n    <tr>\n      <th>New Super Mario Bros.</th>\n      <td>30.01</td>\n      <td>2006.0</td>\n      <td>DS</td>\n    </tr>\n    <tr>\n      <th>Wii Play</th>\n      <td>29.02</td>\n      <td>2006.0</td>\n      <td>Wii</td>\n    </tr>\n    <tr>\n      <th>New Super Mario Bros. Wii</th>\n      <td>28.62</td>\n      <td>2009.0</td>\n      <td>Wii</td>\n    </tr>\n    <tr>\n      <th>Duck Hunt</th>\n      <td>28.31</td>\n      <td>1984.0</td>\n      <td>NES</td>\n    </tr>\n    <tr>\n      <th>Nintendogs</th>\n      <td>24.76</td>\n      <td>2005.0</td>\n      <td>DS</td>\n    </tr>\n    <tr>\n      <th>Mario Kart DS</th>\n      <td>23.42</td>\n      <td>2005.0</td>\n      <td>DS</td>\n    </tr>\n    <tr>\n      <th>Pokemon Gold/Pokemon Silver</th>\n      <td>23.10</td>\n      <td>1999.0</td>\n      <td>GB</td>\n    </tr>\n    <tr>\n      <th>Wii Fit</th>\n      <td>22.72</td>\n      <td>2007.0</td>\n      <td>Wii</td>\n    </tr>\n    <tr>\n      <th>Wii Fit Plus</th>\n      <td>22.00</td>\n      <td>2009.0</td>\n      <td>Wii</td>\n    </tr>\n    <tr>\n      <th>Kinect Adventures!</th>\n      <td>21.82</td>\n      <td>2010.0</td>\n      <td>X360</td>\n    </tr>\n    <tr>\n      <th>Grand Theft Auto V</th>\n      <td>21.40</td>\n      <td>2013.0</td>\n      <td>PS3</td>\n    </tr>\n    <tr>\n      <th>Grand Theft Auto: San Andreas</th>\n      <td>20.81</td>\n      <td>2004.0</td>\n      <td>PS2</td>\n    </tr>\n    <tr>\n      <th>Super Mario World</th>\n      <td>20.61</td>\n      <td>1990.0</td>\n      <td>SNES</td>\n    </tr>\n    <tr>\n      <th>Brain Age: Train Your Brain in Minutes a Day</th>\n      <td>20.22</td>\n      <td>2005.0</td>\n      <td>DS</td>\n    </tr>\n  </tbody>\n</table>\n</div>"
     },
     "metadata": {},
     "execution_count": 5
    }
   ],
   "source": [
    "df.set_index(\"Name\")[[\"Global_Sales\",\"Year\",\"Platform\"]].sort_values('Global_Sales', ascending=False)[:20]"
   ]
  },
  {
   "source": [
    "## For North American video game sales, what’s the median?"
   ],
   "cell_type": "markdown",
   "metadata": {}
  },
  {
   "cell_type": "code",
   "execution_count": 6,
   "metadata": {},
   "outputs": [
    {
     "output_type": "execute_result",
     "data": {
      "text/plain": [
       "NA_Sales    0.08\n",
       "dtype: float64"
      ]
     },
     "metadata": {},
     "execution_count": 6
    }
   ],
   "source": [
    "df.set_index(\"Name\")[[\"NA_Sales\"]].median()"
   ]
  },
  {
   "source": [
    "## Provide a secondary output showing ten games surrounding the median sales output"
   ],
   "cell_type": "markdown",
   "metadata": {}
  },
  {
   "cell_type": "code",
   "execution_count": 7,
   "metadata": {},
   "outputs": [
    {
     "output_type": "execute_result",
     "data": {
      "text/plain": [
       "                                                    NA_Sales  Rank\n",
       "Name                                                              \n",
       "Pinball                                                  0.8   940\n",
       "Star Ocean: Till The End of Time                         0.8  1041\n",
       "Call of Duty Black Ops: Declassified                     0.8  1073\n",
       "Kirby & the Amazing Mirror                               0.8  1115\n",
       "Tiger Woods PGA Tour 2003                                0.8  1120\n",
       "Tony Hawk's American Wasteland (Old all region ...       0.8  1136\n",
       "Pokemon Battle Revolution                                0.8  1141\n",
       "Star Wars: The Force Unleashed II                        0.8  1205\n",
       "Frogger 2: Swampy's Revenge                              0.8  1347\n",
       "UFC Undisputed 2010                                      0.8  1357\n",
       "Gardening Mama                                           0.8  1411"
      ],
      "text/html": "<div>\n<style scoped>\n    .dataframe tbody tr th:only-of-type {\n        vertical-align: middle;\n    }\n\n    .dataframe tbody tr th {\n        vertical-align: top;\n    }\n\n    .dataframe thead th {\n        text-align: right;\n    }\n</style>\n<table border=\"1\" class=\"dataframe\">\n  <thead>\n    <tr style=\"text-align: right;\">\n      <th></th>\n      <th>NA_Sales</th>\n      <th>Rank</th>\n    </tr>\n    <tr>\n      <th>Name</th>\n      <th></th>\n      <th></th>\n    </tr>\n  </thead>\n  <tbody>\n    <tr>\n      <th>Pinball</th>\n      <td>0.8</td>\n      <td>940</td>\n    </tr>\n    <tr>\n      <th>Star Ocean: Till The End of Time</th>\n      <td>0.8</td>\n      <td>1041</td>\n    </tr>\n    <tr>\n      <th>Call of Duty Black Ops: Declassified</th>\n      <td>0.8</td>\n      <td>1073</td>\n    </tr>\n    <tr>\n      <th>Kirby &amp; the Amazing Mirror</th>\n      <td>0.8</td>\n      <td>1115</td>\n    </tr>\n    <tr>\n      <th>Tiger Woods PGA Tour 2003</th>\n      <td>0.8</td>\n      <td>1120</td>\n    </tr>\n    <tr>\n      <th>Tony Hawk's American Wasteland (Old all region sales)</th>\n      <td>0.8</td>\n      <td>1136</td>\n    </tr>\n    <tr>\n      <th>Pokemon Battle Revolution</th>\n      <td>0.8</td>\n      <td>1141</td>\n    </tr>\n    <tr>\n      <th>Star Wars: The Force Unleashed II</th>\n      <td>0.8</td>\n      <td>1205</td>\n    </tr>\n    <tr>\n      <th>Frogger 2: Swampy's Revenge</th>\n      <td>0.8</td>\n      <td>1347</td>\n    </tr>\n    <tr>\n      <th>UFC Undisputed 2010</th>\n      <td>0.8</td>\n      <td>1357</td>\n    </tr>\n    <tr>\n      <th>Gardening Mama</th>\n      <td>0.8</td>\n      <td>1411</td>\n    </tr>\n  </tbody>\n</table>\n</div>"
     },
     "metadata": {},
     "execution_count": 7
    }
   ],
   "source": [
    "df[df[\"NA_Sales\"] == 0.8].set_index(\"Name\")[[\"NA_Sales\",\"Rank\"]][1:12]"
   ]
  },
  {
   "source": [
    "## For the top-selling game of all time, how many standard deviations above/below the mean are its sales for North America?"
   ],
   "cell_type": "markdown",
   "metadata": {}
  },
  {
   "cell_type": "code",
   "execution_count": 8,
   "metadata": {},
   "outputs": [
    {
     "output_type": "execute_result",
     "data": {
      "text/plain": [
       "    NA_Sales\n",
       "0  50.478988"
      ],
      "text/html": "<div>\n<style scoped>\n    .dataframe tbody tr th:only-of-type {\n        vertical-align: middle;\n    }\n\n    .dataframe tbody tr th {\n        vertical-align: top;\n    }\n\n    .dataframe thead th {\n        text-align: right;\n    }\n</style>\n<table border=\"1\" class=\"dataframe\">\n  <thead>\n    <tr style=\"text-align: right;\">\n      <th></th>\n      <th>NA_Sales</th>\n    </tr>\n  </thead>\n  <tbody>\n    <tr>\n      <th>0</th>\n      <td>50.478988</td>\n    </tr>\n  </tbody>\n</table>\n</div>"
     },
     "metadata": {},
     "execution_count": 8
    }
   ],
   "source": [
    "global_top_selling_all_time = df[[\"Global_Sales\"]].max()\n",
    "global_top_selling_all_time\n",
    "\n",
    "na_std_dev = df[[\"NA_Sales\"]].std()\n",
    "na_std_dev\n",
    "\n",
    "na_mean = df[[\"NA_Sales\"]].mean()\n",
    "na_mean\n",
    "\n",
    "df[df[\"Global_Sales\"] == df[\"Global_Sales\"].max()][[\"Publisher\",\"Name\",\"Year\",\"Genre\",\"NA_Sales\"]]\n",
    "na_sales_for_top_selling_game = df[df[\"Global_Sales\"] == df[\"Global_Sales\"].max()][[\"NA_Sales\"]]\n",
    "\n",
    "std_dev_above_mean_for_na_sales = (na_sales_for_top_selling_game - na_mean) / na_std_dev\n",
    "std_dev_above_mean_for_na_sales\n"
   ]
  },
  {
   "source": [
    "## The Nintendo Wii seems to have outdone itself with games. How does its average number of sales compare with all of the other platforms?"
   ],
   "cell_type": "markdown",
   "metadata": {}
  },
  {
   "cell_type": "code",
   "execution_count": 9,
   "metadata": {},
   "outputs": [
    {
     "output_type": "execute_result",
     "data": {
      "text/plain": [
       "Global_Sales    1.336297\n",
       "dtype: float64"
      ]
     },
     "metadata": {},
     "execution_count": 9
    }
   ],
   "source": [
    "overall_global_avg = df[[\"Global_Sales\"]].mean()\n",
    "wii_global_avg = df[df[\"Platform\"] == \"Wii\"][[\"Global_Sales\"]].mean()\n",
    "others_global_avg = df[df[\"Platform\"] != \"Wii\"][[\"Global_Sales\"]].mean()\n",
    "wii_sells_x_times_more = wii_global_avg / others_global_avg\n",
    "wii_sells_x_times_more"
   ]
  },
  {
   "source": [
    "## Bonus #1:  What is the top selling game of all time?"
   ],
   "cell_type": "markdown",
   "metadata": {}
  },
  {
   "cell_type": "code",
   "execution_count": 10,
   "metadata": {},
   "outputs": [
    {
     "output_type": "execute_result",
     "data": {
      "text/plain": [
       "           Publisher    Year   Genre\n",
       "Name                                \n",
       "Wii Sports  Nintendo  2006.0  Sports"
      ],
      "text/html": "<div>\n<style scoped>\n    .dataframe tbody tr th:only-of-type {\n        vertical-align: middle;\n    }\n\n    .dataframe tbody tr th {\n        vertical-align: top;\n    }\n\n    .dataframe thead th {\n        text-align: right;\n    }\n</style>\n<table border=\"1\" class=\"dataframe\">\n  <thead>\n    <tr style=\"text-align: right;\">\n      <th></th>\n      <th>Publisher</th>\n      <th>Year</th>\n      <th>Genre</th>\n    </tr>\n    <tr>\n      <th>Name</th>\n      <th></th>\n      <th></th>\n      <th></th>\n    </tr>\n  </thead>\n  <tbody>\n    <tr>\n      <th>Wii Sports</th>\n      <td>Nintendo</td>\n      <td>2006.0</td>\n      <td>Sports</td>\n    </tr>\n  </tbody>\n</table>\n</div>"
     },
     "metadata": {},
     "execution_count": 10
    }
   ],
   "source": [
    "df[df[\"Global_Sales\"] == df[\"Global_Sales\"].max()][[\"Publisher\",\"Year\",\"Genre\",\"Name\"]].set_index(\"Name\")\n"
   ]
  },
  {
   "source": [
    "## Bonus #2:  List of the top ten publishers and their game counts."
   ],
   "cell_type": "markdown",
   "metadata": {}
  },
  {
   "cell_type": "code",
   "execution_count": 11,
   "metadata": {},
   "outputs": [
    {
     "output_type": "execute_result",
     "data": {
      "text/plain": [
       "Publisher                   \n",
       "Electronic Arts                 1351\n",
       "Activision                       975\n",
       "Namco Bandai Games               932\n",
       "Ubisoft                          921\n",
       "Konami Digital Entertainment     832\n",
       "THQ                              715\n",
       "Nintendo                         703\n",
       "Sony Computer Entertainment      683\n",
       "Sega                             639\n",
       "Take-Two Interactive             413\n",
       "dtype: int64"
      ]
     },
     "metadata": {},
     "execution_count": 11
    }
   ],
   "source": [
    "df[[\"Publisher\"]].value_counts()[:10]\n"
   ]
  },
  {
   "source": [
    "## Bonus #3:  Sorted list of years with highest gloabal sales."
   ],
   "cell_type": "markdown",
   "metadata": {}
  },
  {
   "cell_type": "code",
   "execution_count": 12,
   "metadata": {},
   "outputs": [
    {
     "output_type": "execute_result",
     "data": {
      "text/plain": [
       "        Global_Sales\n",
       "Year                \n",
       "2008.0        678.90\n",
       "2009.0        667.30\n",
       "2007.0        611.13\n",
       "2010.0        600.45\n",
       "2006.0        521.04"
      ],
      "text/html": "<div>\n<style scoped>\n    .dataframe tbody tr th:only-of-type {\n        vertical-align: middle;\n    }\n\n    .dataframe tbody tr th {\n        vertical-align: top;\n    }\n\n    .dataframe thead th {\n        text-align: right;\n    }\n</style>\n<table border=\"1\" class=\"dataframe\">\n  <thead>\n    <tr style=\"text-align: right;\">\n      <th></th>\n      <th>Global_Sales</th>\n    </tr>\n    <tr>\n      <th>Year</th>\n      <th></th>\n    </tr>\n  </thead>\n  <tbody>\n    <tr>\n      <th>2008.0</th>\n      <td>678.90</td>\n    </tr>\n    <tr>\n      <th>2009.0</th>\n      <td>667.30</td>\n    </tr>\n    <tr>\n      <th>2007.0</th>\n      <td>611.13</td>\n    </tr>\n    <tr>\n      <th>2010.0</th>\n      <td>600.45</td>\n    </tr>\n    <tr>\n      <th>2006.0</th>\n      <td>521.04</td>\n    </tr>\n  </tbody>\n</table>\n</div>"
     },
     "metadata": {},
     "execution_count": 12
    }
   ],
   "source": [
    "df[[\"Year\",\"Global_Sales\"]].groupby(\"Year\").sum().sort_values(\"Global_Sales\", ascending=False).head(5)"
   ]
  },
  {
   "source": [
    "## Tests"
   ],
   "cell_type": "markdown",
   "metadata": {}
  },
  {
   "cell_type": "code",
   "execution_count": 13,
   "metadata": {},
   "outputs": [],
   "source": [
    "def test():\n",
    "    def assert_equal(actual,expected):\n",
    "        assert actual ==expected, f\"Expected {expected} but got {actual}\"\n",
    "\n",
    "        assert_equal(most_common_publisher, None)\n",
    "        assert_equal(most_common_platform, None)\n",
    "        assert_equal(most_common_genre, None)\n",
    "        assert_equal(top_twenty_highest_grossing_games.iloc[0].Name, None)\n",
    "        assert_equal(top_twenty_highest_grossing_games.iloc[19].Name, None)\n",
    "        assert_equal(na_median_sales, None)\n",
    "        assert_equal(ten_median_na_seller_names, None)\n",
    "\n",
    "        print(\"Success!!!\")\n",
    "\n",
    "test()"
   ]
  },
  {
   "source": [
    "## Extra Bonus:  What year had the highest dollar amount of global sales?  (2008 at 678.90)\n",
    "### I tried to find the top sales year all in one go... but still having trouble with it."
   ],
   "cell_type": "markdown",
   "metadata": {}
  },
  {
   "cell_type": "code",
   "execution_count": 14,
   "metadata": {},
   "outputs": [
    {
     "output_type": "error",
     "ename": "IndexingError",
     "evalue": "Unalignable boolean Series provided as indexer (index of the boolean Series and of the indexed object do not match).",
     "traceback": [
      "\u001b[0;31m---------------------------------------------------------------------------\u001b[0m",
      "\u001b[0;31mIndexingError\u001b[0m                             Traceback (most recent call last)",
      "\u001b[0;32m<ipython-input-14-225b12a8940f>\u001b[0m in \u001b[0;36m<module>\u001b[0;34m\u001b[0m\n\u001b[1;32m      4\u001b[0m \u001b[0;31m# df[df_yearly_sales[\"Global_Sales\"] == max_yearly_sales][[\"Year\",\"Global_Sales\"]]\u001b[0m\u001b[0;34m\u001b[0m\u001b[0;34m\u001b[0m\u001b[0;34m\u001b[0m\u001b[0m\n\u001b[1;32m      5\u001b[0m \u001b[0;34m\u001b[0m\u001b[0m\n\u001b[0;32m----> 6\u001b[0;31m \u001b[0mdf\u001b[0m\u001b[0;34m[\u001b[0m\u001b[0mdf\u001b[0m\u001b[0;34m[\u001b[0m\u001b[0;34m[\u001b[0m\u001b[0;34m\"Year\"\u001b[0m\u001b[0;34m,\u001b[0m\u001b[0;34m\"Global_Sales\"\u001b[0m\u001b[0;34m]\u001b[0m\u001b[0;34m]\u001b[0m\u001b[0;34m.\u001b[0m\u001b[0mgroupby\u001b[0m\u001b[0;34m(\u001b[0m\u001b[0;34m\"Year\"\u001b[0m\u001b[0;34m)\u001b[0m\u001b[0;34m.\u001b[0m\u001b[0msum\u001b[0m\u001b[0;34m(\u001b[0m\u001b[0;34m)\u001b[0m\u001b[0;34m[\u001b[0m\u001b[0;34m\"Global_Sales\"\u001b[0m\u001b[0;34m]\u001b[0m \u001b[0;34m==\u001b[0m \u001b[0mdf\u001b[0m\u001b[0;34m[\u001b[0m\u001b[0;34m[\u001b[0m\u001b[0;34m\"Year\"\u001b[0m\u001b[0;34m,\u001b[0m\u001b[0;34m\"Global_Sales\"\u001b[0m\u001b[0;34m]\u001b[0m\u001b[0;34m]\u001b[0m\u001b[0;34m.\u001b[0m\u001b[0mgroupby\u001b[0m\u001b[0;34m(\u001b[0m\u001b[0;34m\"Year\"\u001b[0m\u001b[0;34m)\u001b[0m\u001b[0;34m.\u001b[0m\u001b[0msum\u001b[0m\u001b[0;34m(\u001b[0m\u001b[0;34m)\u001b[0m\u001b[0;34m.\u001b[0m\u001b[0mmax\u001b[0m\u001b[0;34m(\u001b[0m\u001b[0;34m)\u001b[0m\u001b[0;34m[\u001b[0m\u001b[0;34m\"Global_Sales\"\u001b[0m\u001b[0;34m]\u001b[0m\u001b[0;34m]\u001b[0m\u001b[0;34m[\u001b[0m\u001b[0;34m[\u001b[0m\u001b[0;34m\"Year\"\u001b[0m\u001b[0;34m,\u001b[0m\u001b[0;34m\"Global_Sales\"\u001b[0m\u001b[0;34m]\u001b[0m\u001b[0;34m]\u001b[0m\u001b[0;34m\u001b[0m\u001b[0;34m\u001b[0m\u001b[0m\n\u001b[0m\u001b[1;32m      7\u001b[0m \u001b[0;34m\u001b[0m\u001b[0m\n\u001b[1;32m      8\u001b[0m \u001b[0;31m# df[df[[\"Year\",\"Global_Sales\"]].groupby(\"Year\").sum() == df[[\"Year\",\"Global_Sales\"]].groupby(\"Year\").sum().max()][\"Year\"]\u001b[0m\u001b[0;34m\u001b[0m\u001b[0;34m\u001b[0m\u001b[0;34m\u001b[0m\u001b[0m\n",
      "\u001b[0;32m~/Documents/projects/codefellows/401/lab/vg-stats/.venv/lib/python3.9/site-packages/pandas/core/frame.py\u001b[0m in \u001b[0;36m__getitem__\u001b[0;34m(self, key)\u001b[0m\n\u001b[1;32m   2895\u001b[0m         \u001b[0;31m# Do we have a (boolean) 1d indexer?\u001b[0m\u001b[0;34m\u001b[0m\u001b[0;34m\u001b[0m\u001b[0;34m\u001b[0m\u001b[0m\n\u001b[1;32m   2896\u001b[0m         \u001b[0;32mif\u001b[0m \u001b[0mcom\u001b[0m\u001b[0;34m.\u001b[0m\u001b[0mis_bool_indexer\u001b[0m\u001b[0;34m(\u001b[0m\u001b[0mkey\u001b[0m\u001b[0;34m)\u001b[0m\u001b[0;34m:\u001b[0m\u001b[0;34m\u001b[0m\u001b[0;34m\u001b[0m\u001b[0m\n\u001b[0;32m-> 2897\u001b[0;31m             \u001b[0;32mreturn\u001b[0m \u001b[0mself\u001b[0m\u001b[0;34m.\u001b[0m\u001b[0m_getitem_bool_array\u001b[0m\u001b[0;34m(\u001b[0m\u001b[0mkey\u001b[0m\u001b[0;34m)\u001b[0m\u001b[0;34m\u001b[0m\u001b[0;34m\u001b[0m\u001b[0m\n\u001b[0m\u001b[1;32m   2898\u001b[0m \u001b[0;34m\u001b[0m\u001b[0m\n\u001b[1;32m   2899\u001b[0m         \u001b[0;31m# We are left with two options: a single key, and a collection of keys,\u001b[0m\u001b[0;34m\u001b[0m\u001b[0;34m\u001b[0m\u001b[0;34m\u001b[0m\u001b[0m\n",
      "\u001b[0;32m~/Documents/projects/codefellows/401/lab/vg-stats/.venv/lib/python3.9/site-packages/pandas/core/frame.py\u001b[0m in \u001b[0;36m_getitem_bool_array\u001b[0;34m(self, key)\u001b[0m\n\u001b[1;32m   2947\u001b[0m         \u001b[0;31m# check_bool_indexer will throw exception if Series key cannot\u001b[0m\u001b[0;34m\u001b[0m\u001b[0;34m\u001b[0m\u001b[0;34m\u001b[0m\u001b[0m\n\u001b[1;32m   2948\u001b[0m         \u001b[0;31m# be reindexed to match DataFrame rows\u001b[0m\u001b[0;34m\u001b[0m\u001b[0;34m\u001b[0m\u001b[0;34m\u001b[0m\u001b[0m\n\u001b[0;32m-> 2949\u001b[0;31m         \u001b[0mkey\u001b[0m \u001b[0;34m=\u001b[0m \u001b[0mcheck_bool_indexer\u001b[0m\u001b[0;34m(\u001b[0m\u001b[0mself\u001b[0m\u001b[0;34m.\u001b[0m\u001b[0mindex\u001b[0m\u001b[0;34m,\u001b[0m \u001b[0mkey\u001b[0m\u001b[0;34m)\u001b[0m\u001b[0;34m\u001b[0m\u001b[0;34m\u001b[0m\u001b[0m\n\u001b[0m\u001b[1;32m   2950\u001b[0m         \u001b[0mindexer\u001b[0m \u001b[0;34m=\u001b[0m \u001b[0mkey\u001b[0m\u001b[0;34m.\u001b[0m\u001b[0mnonzero\u001b[0m\u001b[0;34m(\u001b[0m\u001b[0;34m)\u001b[0m\u001b[0;34m[\u001b[0m\u001b[0;36m0\u001b[0m\u001b[0;34m]\u001b[0m\u001b[0;34m\u001b[0m\u001b[0;34m\u001b[0m\u001b[0m\n\u001b[1;32m   2951\u001b[0m         \u001b[0;32mreturn\u001b[0m \u001b[0mself\u001b[0m\u001b[0;34m.\u001b[0m\u001b[0m_take_with_is_copy\u001b[0m\u001b[0;34m(\u001b[0m\u001b[0mindexer\u001b[0m\u001b[0;34m,\u001b[0m \u001b[0maxis\u001b[0m\u001b[0;34m=\u001b[0m\u001b[0;36m0\u001b[0m\u001b[0;34m)\u001b[0m\u001b[0;34m\u001b[0m\u001b[0;34m\u001b[0m\u001b[0m\n",
      "\u001b[0;32m~/Documents/projects/codefellows/401/lab/vg-stats/.venv/lib/python3.9/site-packages/pandas/core/indexing.py\u001b[0m in \u001b[0;36mcheck_bool_indexer\u001b[0;34m(index, key)\u001b[0m\n\u001b[1;32m   2180\u001b[0m         \u001b[0mmask\u001b[0m \u001b[0;34m=\u001b[0m \u001b[0misna\u001b[0m\u001b[0;34m(\u001b[0m\u001b[0mresult\u001b[0m\u001b[0;34m.\u001b[0m\u001b[0m_values\u001b[0m\u001b[0;34m)\u001b[0m\u001b[0;34m\u001b[0m\u001b[0;34m\u001b[0m\u001b[0m\n\u001b[1;32m   2181\u001b[0m         \u001b[0;32mif\u001b[0m \u001b[0mmask\u001b[0m\u001b[0;34m.\u001b[0m\u001b[0many\u001b[0m\u001b[0;34m(\u001b[0m\u001b[0;34m)\u001b[0m\u001b[0;34m:\u001b[0m\u001b[0;34m\u001b[0m\u001b[0;34m\u001b[0m\u001b[0m\n\u001b[0;32m-> 2182\u001b[0;31m             raise IndexingError(\n\u001b[0m\u001b[1;32m   2183\u001b[0m                 \u001b[0;34m\"Unalignable boolean Series provided as \"\u001b[0m\u001b[0;34m\u001b[0m\u001b[0;34m\u001b[0m\u001b[0m\n\u001b[1;32m   2184\u001b[0m                 \u001b[0;34m\"indexer (index of the boolean Series and of \"\u001b[0m\u001b[0;34m\u001b[0m\u001b[0;34m\u001b[0m\u001b[0m\n",
      "\u001b[0;31mIndexingError\u001b[0m: Unalignable boolean Series provided as indexer (index of the boolean Series and of the indexed object do not match)."
     ]
    }
   ],
   "source": [
    "df_yearly_sales = df[[\"Year\",\"Global_Sales\"]].groupby(\"Year\").sum()\n",
    "max_yearly_sales = df[[\"Year\",\"Global_Sales\"]].groupby(\"Year\").sum().max()\n",
    "\n",
    "# df[df_yearly_sales[\"Global_Sales\"] == max_yearly_sales][[\"Year\",\"Global_Sales\"]]\n",
    "\n",
    "df[df[[\"Year\",\"Global_Sales\"]].groupby(\"Year\").sum()[\"Global_Sales\"] == df[[\"Year\",\"Global_Sales\"]].groupby(\"Year\").sum().max()[\"Global_Sales\"]][[\"Year\",\"Global_Sales\"]]\n",
    "\n",
    "# df[df[[\"Year\",\"Global_Sales\"]].groupby(\"Year\").sum() == df[[\"Year\",\"Global_Sales\"]].groupby(\"Year\").sum().max()][\"Year\"]\n",
    "# df[df[[\"Year\",\"Global_Sales\"]].groupby(\"Year\").sum() == df[[\"Year\",\"Global_Sales\"]].groupby(\"Year\").sum().max()]\n",
    "# df[df[[\"Year\",\"Global_Sales\"]].groupby(\"Year\").sum() == df[[\"Year\",\"Global_Sales\"]].groupby(\"Year\").sum().max()][[\"Year\",\"Global_Sales\"]]\n"
   ]
  },
  {
   "cell_type": "code",
   "execution_count": null,
   "metadata": {},
   "outputs": [],
   "source": []
  }
 ]
}