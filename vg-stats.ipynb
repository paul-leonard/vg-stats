{
 "metadata": {
  "language_info": {
   "codemirror_mode": {
    "name": "ipython",
    "version": 3
   },
   "file_extension": ".py",
   "mimetype": "text/x-python",
   "name": "python",
   "nbconvert_exporter": "python",
   "pygments_lexer": "ipython3",
   "version": "3.9.0-final"
  },
  "orig_nbformat": 2,
  "kernelspec": {
   "name": "python3",
   "display_name": "Python 3"
  }
 },
 "nbformat": 4,
 "nbformat_minor": 2,
 "cells": [
  {
   "source": [
    "# Data Analysis with Pandas:  Video Game Sales\n",
    "### Paul Leonard on 11/24/2020"
   ],
   "cell_type": "markdown",
   "metadata": {}
  },
  {
   "source": [
    "##### Bringing in pandas and the library"
   ],
   "cell_type": "markdown",
   "metadata": {}
  },
  {
   "cell_type": "code",
   "execution_count": 19,
   "metadata": {},
   "outputs": [
    {
     "output_type": "stream",
     "name": "stdout",
     "text": [
      "<class 'pandas.core.frame.DataFrame'>\nRangeIndex: 16598 entries, 0 to 16597\nData columns (total 11 columns):\n #   Column        Non-Null Count  Dtype  \n---  ------        --------------  -----  \n 0   Rank          16598 non-null  int64  \n 1   Name          16598 non-null  object \n 2   Platform      16598 non-null  object \n 3   Year          16327 non-null  float64\n 4   Genre         16598 non-null  object \n 5   Publisher     16540 non-null  object \n 6   NA_Sales      16598 non-null  float64\n 7   EU_Sales      16598 non-null  float64\n 8   JP_Sales      16598 non-null  float64\n 9   Other_Sales   16598 non-null  float64\n 10  Global_Sales  16598 non-null  float64\ndtypes: float64(6), int64(1), object(4)\nmemory usage: 1.4+ MB\n"
     ]
    }
   ],
   "source": [
    "import pandas as pd\n",
    "\n",
    "#data from https://www.kaggle.com/gregorut/videogamesales?select=vgsales.csv\n",
    "df = pd.read_csv('./vgsales.csv')\n",
    "\n",
    "df.info()\n",
    "df.head(3)\n",
    "df.tail(4)\n",
    "df.set_index(\"Name\")\n",
    "df[[\"Name\",\"Year\",\"Genre\"]]\n",
    "df.set_index(\"Name\")[[\"Year\",\"Genre\"]]\n",
    "df.set_index(\"Name\")[[\"Year\",\"Genre\"]].sort_values('Year', ascending=True)\n",
    "df['Year'] < 2000\n",
    "df[df['Year'] > 2000]\n",
    "df[df['Year'] > 2010].set_index(\"Name\")[[\"Rank\",\"Platform\",\"Year\"]]\n"
   ]
  },
  {
   "cell_type": "code",
   "execution_count": null,
   "metadata": {},
   "outputs": [],
   "source": []
  },
  {
   "source": [
    "### What is the most common video game publisher?"
   ],
   "cell_type": "markdown",
   "metadata": {}
  },
  {
   "cell_type": "code",
   "execution_count": 41,
   "metadata": {},
   "outputs": [
    {
     "output_type": "execute_result",
     "data": {
      "text/plain": [
       "         Publisher\n",
       "0  Electronic Arts"
      ],
      "text/html": "<div>\n<style scoped>\n    .dataframe tbody tr th:only-of-type {\n        vertical-align: middle;\n    }\n\n    .dataframe tbody tr th {\n        vertical-align: top;\n    }\n\n    .dataframe thead th {\n        text-align: right;\n    }\n</style>\n<table border=\"1\" class=\"dataframe\">\n  <thead>\n    <tr style=\"text-align: right;\">\n      <th></th>\n      <th>Publisher</th>\n    </tr>\n  </thead>\n  <tbody>\n    <tr>\n      <th>0</th>\n      <td>Electronic Arts</td>\n    </tr>\n  </tbody>\n</table>\n</div>"
     },
     "metadata": {},
     "execution_count": 41
    }
   ],
   "source": [
    "df[[\"Publisher\"]].mode()"
   ]
  },
  {
   "source": [
    "### What's the most common platform?"
   ],
   "cell_type": "markdown",
   "metadata": {}
  },
  {
   "cell_type": "code",
   "execution_count": 43,
   "metadata": {},
   "outputs": [
    {
     "output_type": "execute_result",
     "data": {
      "text/plain": [
       "Empty DataFrame\n",
       "Columns: []\n",
       "Index: [DS]"
      ],
      "text/html": "<div>\n<style scoped>\n    .dataframe tbody tr th:only-of-type {\n        vertical-align: middle;\n    }\n\n    .dataframe tbody tr th {\n        vertical-align: top;\n    }\n\n    .dataframe thead th {\n        text-align: right;\n    }\n</style>\n<table border=\"1\" class=\"dataframe\">\n  <thead>\n    <tr style=\"text-align: right;\">\n      <th></th>\n    </tr>\n    <tr>\n      <th>Platform</th>\n    </tr>\n  </thead>\n  <tbody>\n    <tr>\n      <th>DS</th>\n    </tr>\n  </tbody>\n</table>\n</div>"
     },
     "metadata": {},
     "execution_count": 43
    }
   ],
   "source": [
    "df[[\"Platform\"]].mode().set_index(\"Platform\")"
   ]
  },
  {
   "source": [
    "### What about the most common genre?"
   ],
   "cell_type": "markdown",
   "metadata": {}
  },
  {
   "cell_type": "code",
   "execution_count": null,
   "metadata": {},
   "outputs": [],
   "source": []
  },
  {
   "cell_type": "code",
   "execution_count": null,
   "metadata": {},
   "outputs": [],
   "source": []
  },
  {
   "cell_type": "code",
   "execution_count": 44,
   "metadata": {},
   "outputs": [
    {
     "output_type": "execute_result",
     "data": {
      "text/plain": [
       "Empty DataFrame\n",
       "Columns: []\n",
       "Index: [Action]"
      ],
      "text/html": "<div>\n<style scoped>\n    .dataframe tbody tr th:only-of-type {\n        vertical-align: middle;\n    }\n\n    .dataframe tbody tr th {\n        vertical-align: top;\n    }\n\n    .dataframe thead th {\n        text-align: right;\n    }\n</style>\n<table border=\"1\" class=\"dataframe\">\n  <thead>\n    <tr style=\"text-align: right;\">\n      <th></th>\n    </tr>\n    <tr>\n      <th>Genre</th>\n    </tr>\n  </thead>\n  <tbody>\n    <tr>\n      <th>Action</th>\n    </tr>\n  </tbody>\n</table>\n</div>"
     },
     "metadata": {},
     "execution_count": 44
    }
   ],
   "source": [
    "df[[\"Genre\"]].mode().set_index(\"Genre\")"
   ]
  },
  {
   "source": [],
   "cell_type": "markdown",
   "metadata": {}
  },
  {
   "source": [
    "### What are the top 20 highest grossing games?"
   ],
   "cell_type": "markdown",
   "metadata": {}
  },
  {
   "cell_type": "code",
   "execution_count": 48,
   "metadata": {},
   "outputs": [
    {
     "output_type": "execute_result",
     "data": {
      "text/plain": [
       "                                              Global_Sales    Year Platform\n",
       "Name                                                                       \n",
       "Wii Sports                                           82.74  2006.0      Wii\n",
       "Super Mario Bros.                                    40.24  1985.0      NES\n",
       "Mario Kart Wii                                       35.82  2008.0      Wii\n",
       "Wii Sports Resort                                    33.00  2009.0      Wii\n",
       "Pokemon Red/Pokemon Blue                             31.37  1996.0       GB\n",
       "Tetris                                               30.26  1989.0       GB\n",
       "New Super Mario Bros.                                30.01  2006.0       DS\n",
       "Wii Play                                             29.02  2006.0      Wii\n",
       "New Super Mario Bros. Wii                            28.62  2009.0      Wii\n",
       "Duck Hunt                                            28.31  1984.0      NES\n",
       "Nintendogs                                           24.76  2005.0       DS\n",
       "Mario Kart DS                                        23.42  2005.0       DS\n",
       "Pokemon Gold/Pokemon Silver                          23.10  1999.0       GB\n",
       "Wii Fit                                              22.72  2007.0      Wii\n",
       "Wii Fit Plus                                         22.00  2009.0      Wii\n",
       "Kinect Adventures!                                   21.82  2010.0     X360\n",
       "Grand Theft Auto V                                   21.40  2013.0      PS3\n",
       "Grand Theft Auto: San Andreas                        20.81  2004.0      PS2\n",
       "Super Mario World                                    20.61  1990.0     SNES\n",
       "Brain Age: Train Your Brain in Minutes a Day         20.22  2005.0       DS"
      ],
      "text/html": "<div>\n<style scoped>\n    .dataframe tbody tr th:only-of-type {\n        vertical-align: middle;\n    }\n\n    .dataframe tbody tr th {\n        vertical-align: top;\n    }\n\n    .dataframe thead th {\n        text-align: right;\n    }\n</style>\n<table border=\"1\" class=\"dataframe\">\n  <thead>\n    <tr style=\"text-align: right;\">\n      <th></th>\n      <th>Global_Sales</th>\n      <th>Year</th>\n      <th>Platform</th>\n    </tr>\n    <tr>\n      <th>Name</th>\n      <th></th>\n      <th></th>\n      <th></th>\n    </tr>\n  </thead>\n  <tbody>\n    <tr>\n      <th>Wii Sports</th>\n      <td>82.74</td>\n      <td>2006.0</td>\n      <td>Wii</td>\n    </tr>\n    <tr>\n      <th>Super Mario Bros.</th>\n      <td>40.24</td>\n      <td>1985.0</td>\n      <td>NES</td>\n    </tr>\n    <tr>\n      <th>Mario Kart Wii</th>\n      <td>35.82</td>\n      <td>2008.0</td>\n      <td>Wii</td>\n    </tr>\n    <tr>\n      <th>Wii Sports Resort</th>\n      <td>33.00</td>\n      <td>2009.0</td>\n      <td>Wii</td>\n    </tr>\n    <tr>\n      <th>Pokemon Red/Pokemon Blue</th>\n      <td>31.37</td>\n      <td>1996.0</td>\n      <td>GB</td>\n    </tr>\n    <tr>\n      <th>Tetris</th>\n      <td>30.26</td>\n      <td>1989.0</td>\n      <td>GB</td>\n    </tr>\n    <tr>\n      <th>New Super Mario Bros.</th>\n      <td>30.01</td>\n      <td>2006.0</td>\n      <td>DS</td>\n    </tr>\n    <tr>\n      <th>Wii Play</th>\n      <td>29.02</td>\n      <td>2006.0</td>\n      <td>Wii</td>\n    </tr>\n    <tr>\n      <th>New Super Mario Bros. Wii</th>\n      <td>28.62</td>\n      <td>2009.0</td>\n      <td>Wii</td>\n    </tr>\n    <tr>\n      <th>Duck Hunt</th>\n      <td>28.31</td>\n      <td>1984.0</td>\n      <td>NES</td>\n    </tr>\n    <tr>\n      <th>Nintendogs</th>\n      <td>24.76</td>\n      <td>2005.0</td>\n      <td>DS</td>\n    </tr>\n    <tr>\n      <th>Mario Kart DS</th>\n      <td>23.42</td>\n      <td>2005.0</td>\n      <td>DS</td>\n    </tr>\n    <tr>\n      <th>Pokemon Gold/Pokemon Silver</th>\n      <td>23.10</td>\n      <td>1999.0</td>\n      <td>GB</td>\n    </tr>\n    <tr>\n      <th>Wii Fit</th>\n      <td>22.72</td>\n      <td>2007.0</td>\n      <td>Wii</td>\n    </tr>\n    <tr>\n      <th>Wii Fit Plus</th>\n      <td>22.00</td>\n      <td>2009.0</td>\n      <td>Wii</td>\n    </tr>\n    <tr>\n      <th>Kinect Adventures!</th>\n      <td>21.82</td>\n      <td>2010.0</td>\n      <td>X360</td>\n    </tr>\n    <tr>\n      <th>Grand Theft Auto V</th>\n      <td>21.40</td>\n      <td>2013.0</td>\n      <td>PS3</td>\n    </tr>\n    <tr>\n      <th>Grand Theft Auto: San Andreas</th>\n      <td>20.81</td>\n      <td>2004.0</td>\n      <td>PS2</td>\n    </tr>\n    <tr>\n      <th>Super Mario World</th>\n      <td>20.61</td>\n      <td>1990.0</td>\n      <td>SNES</td>\n    </tr>\n    <tr>\n      <th>Brain Age: Train Your Brain in Minutes a Day</th>\n      <td>20.22</td>\n      <td>2005.0</td>\n      <td>DS</td>\n    </tr>\n  </tbody>\n</table>\n</div>"
     },
     "metadata": {},
     "execution_count": 48
    }
   ],
   "source": [
    "df.set_index(\"Name\")[[\"Global_Sales\",\"Year\",\"Platform\"]].sort_values('Global_Sales', ascending=False)[:20]"
   ]
  },
  {
   "source": [
    "### For North American video game sales, what’s the median?"
   ],
   "cell_type": "markdown",
   "metadata": {}
  },
  {
   "cell_type": "code",
   "execution_count": 51,
   "metadata": {},
   "outputs": [
    {
     "output_type": "execute_result",
     "data": {
      "text/plain": [
       "NA_Sales    0.08\n",
       "dtype: float64"
      ]
     },
     "metadata": {},
     "execution_count": 51
    }
   ],
   "source": [
    "df.set_index(\"Name\")[[\"NA_Sales\"]].median()"
   ]
  },
  {
   "source": [
    "### Bonus:  List of the top ten publishers and their game counts."
   ],
   "cell_type": "markdown",
   "metadata": {}
  },
  {
   "cell_type": "code",
   "execution_count": 40,
   "metadata": {},
   "outputs": [
    {
     "output_type": "execute_result",
     "data": {
      "text/plain": [
       "Publisher                   \n",
       "Electronic Arts                 1351\n",
       "Activision                       975\n",
       "Namco Bandai Games               932\n",
       "Ubisoft                          921\n",
       "Konami Digital Entertainment     832\n",
       "THQ                              715\n",
       "Nintendo                         703\n",
       "Sony Computer Entertainment      683\n",
       "Sega                             639\n",
       "Take-Two Interactive             413\n",
       "dtype: int64"
      ]
     },
     "metadata": {},
     "execution_count": 40
    }
   ],
   "source": [
    "df[[\"Publisher\"]].value_counts()[:10]\n"
   ]
  }
 ]
}